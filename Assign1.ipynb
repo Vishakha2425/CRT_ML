{
 "cells": [
  {
   "cell_type": "markdown",
   "metadata": {},
   "source": [
    "Question 1:\n",
    "\n",
    "Lists are mutable whereas tuples are not that is lists can be modified after creation. We use tuple when we need our data to not be modified and performance is a huge factor. We use lists when we need to modify, add, or remove elements dynamically"
   ]
  },
  {
   "cell_type": "markdown",
   "metadata": {},
   "source": [
    "Question 2:\n",
    "\n",
    "The default type in python is String. So in order to perform type conversion in python we need to initialize the variable or explicitly typecast the variables\n"
   ]
  },
  {
   "cell_type": "code",
   "execution_count": 2,
   "metadata": {},
   "outputs": [
    {
     "name": "stdout",
     "output_type": "stream",
     "text": [
      "30\n"
     ]
    }
   ],
   "source": [
    "## Question 3\n",
    "\n",
    "a= int(input(\"Enter a number\"))\n",
    "a+=10\n",
    "print (a)"
   ]
  },
  {
   "cell_type": "code",
   "execution_count": 3,
   "metadata": {},
   "outputs": [
    {
     "name": "stdout",
     "output_type": "stream",
     "text": [
      "Not a leap year\n"
     ]
    }
   ],
   "source": [
    "## Question 4\n",
    "\n",
    "y= int(input(\"Enter a year\"))\n",
    "if(y%4==0 and y%100!=0) or y%400==0:\n",
    "    print(\"Leap year\")\n",
    "else:\n",
    "    print(\"Not a leap year\")\n"
   ]
  },
  {
   "cell_type": "code",
   "execution_count": 4,
   "metadata": {},
   "outputs": [
    {
     "name": "stdout",
     "output_type": "stream",
     "text": [
      "Grade F\n"
     ]
    }
   ],
   "source": [
    "## Question 5\n",
    "\n",
    "marks= int(input(\"Enter marks\"))\n",
    "if marks>=90 and marks<=100:\n",
    "    print(\"Grade A\")\n",
    "elif marks<=89 and marks>=80:\n",
    "    print(\"Grade B\")\n",
    "elif marks<=79 and marks>=70:\n",
    "    print(\"Grade C\")\n",
    "elif marks<=69 and marks>=60:\n",
    "    print(\"Grade D\")\n",
    "elif marks<=60:\n",
    "    print(\"Grade F\")\n",
    "else:\n",
    "    print(\"Enter a valid score\")\n"
   ]
  }
 ],
 "metadata": {
  "kernelspec": {
   "display_name": "base",
   "language": "python",
   "name": "python3"
  },
  "language_info": {
   "codemirror_mode": {
    "name": "ipython",
    "version": 3
   },
   "file_extension": ".py",
   "mimetype": "text/x-python",
   "name": "python",
   "nbconvert_exporter": "python",
   "pygments_lexer": "ipython3",
   "version": "3.12.4"
  }
 },
 "nbformat": 4,
 "nbformat_minor": 2
}
