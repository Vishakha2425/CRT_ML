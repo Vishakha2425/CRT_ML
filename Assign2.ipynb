{
 "cells": [
  {
   "cell_type": "code",
   "execution_count": null,
   "metadata": {},
   "outputs": [
    {
     "name": "stdout",
     "output_type": "stream",
     "text": [
      "    1 \n",
      "   1 1 \n",
      "  1 2 1 \n",
      " 1 3 3 1 \n",
      "1 4 6 4 1 \n"
     ]
    }
   ],
   "source": [
    "## 1. Pascals triangle\n",
    "\n",
    "def pascals_triangle(rows):\n",
    "    for i in range(rows):\n",
    "        print(' ' * (rows - i - 1), end='')  # Print leading spaces for alignment\n",
    "        num = 1\n",
    "        for j in range(i + 1):\n",
    "            print(num, end=' ')\n",
    "            num = num * (i - j) // (j + 1)  # Compute the next binomial coefficient\n",
    "        print()\n",
    "\n",
    "pascals_triangle(5)\n"
   ]
  },
  {
   "cell_type": "markdown",
   "metadata": {},
   "source": [
    " 2. Explanation of `continue` statement:\n",
    " The `continue` statement skips the current iteration and moves to the next iteration in a loop.\n",
    " It is beneficial when we want to avoid executing some code based on a condition, instead of restructuring the loop."
   ]
  },
  {
   "cell_type": "code",
   "execution_count": null,
   "metadata": {},
   "outputs": [],
   "source": [
    "\n",
    "# Coding Challenge: Print numbers divisible by 3 using `continue`\n",
    "numbers = [1, 2, 3, 4, 5, 6, 7, 8, 9, 10, 11, 12, 13, 14, 15]\n",
    "for num in numbers:\n",
    "    if num % 3 != 0:\n",
    "        continue  # Skip numbers not divisible by 3\n",
    "    print(num)"
   ]
  },
  {
   "cell_type": "code",
   "execution_count": 27,
   "metadata": {},
   "outputs": [
    {
     "data": {
      "text/plain": [
       "[(3, 4, 5),\n",
       " (5, 12, 13),\n",
       " (6, 8, 10),\n",
       " (7, 24, 25),\n",
       " (8, 15, 17),\n",
       " (9, 12, 15),\n",
       " (9, 40, 41),\n",
       " (10, 24, 26),\n",
       " (12, 16, 20),\n",
       " (12, 35, 37),\n",
       " (14, 48, 50),\n",
       " (15, 20, 25),\n",
       " (15, 36, 39),\n",
       " (16, 30, 34),\n",
       " (18, 24, 30),\n",
       " (20, 21, 29),\n",
       " (21, 28, 35),\n",
       " (24, 32, 40),\n",
       " (27, 36, 45),\n",
       " (30, 40, 50)]"
      ]
     },
     "execution_count": 27,
     "metadata": {},
     "output_type": "execute_result"
    }
   ],
   "source": [
    "## 3. Generate Pythagorean triplets where a, b, c ≤ 50\n",
    "\n",
    "lst=[(a,b,c) for a in range(1,51) for b in range(a,51) for c in range(b,51) if (a**2+b**2)==c**2]\n",
    "lst"
   ]
  },
  {
   "cell_type": "code",
   "execution_count": 28,
   "metadata": {},
   "outputs": [
    {
     "name": "stdout",
     "output_type": "stream",
     "text": [
      "24\n"
     ]
    }
   ],
   "source": [
    "# 4. Find max sum of k consecutive elements in a list\n",
    "def max_consecutive_sum(nums, k):\n",
    "    if len(nums) < k:\n",
    "        return None  # Edge case: Not enough elements\n",
    "    max_sum = sum(nums[:k])\n",
    "    current_sum = max_sum\n",
    "    for i in range(len(nums) - k):\n",
    "        current_sum = current_sum - nums[i] + nums[i + k]\n",
    "        max_sum = max(max_sum, current_sum)\n",
    "    return max_sum\n",
    "\n",
    "print(max_consecutive_sum([1, 2, 3, 4, 5, 6, 7, 8, 9], 3))"
   ]
  },
  {
   "cell_type": "code",
   "execution_count": 29,
   "metadata": {},
   "outputs": [
    {
     "name": "stdout",
     "output_type": "stream",
     "text": [
      "Inside function: [1, 2, 3, 'new item']\n",
      "Outside function: [1, 2, 3, 'new item']\n"
     ]
    }
   ],
   "source": [
    "# 5. Function modifying a list\n",
    "def modify_list(lst):\n",
    "    lst.append(\"new item\")\n",
    "    print(\"Inside function:\", lst)\n",
    "\n",
    "my_list = [1, 2, 3]\n",
    "modify_list(my_list)\n",
    "print(\"Outside function:\", my_list)  # The original list gets modified"
   ]
  },
  {
   "cell_type": "code",
   "execution_count": 30,
   "metadata": {},
   "outputs": [
    {
     "name": "stdout",
     "output_type": "stream",
     "text": [
      "[0, 1, 1, 2, 3, 5, 8, 13, 21, 34, 55, 89, 144, 233, 377, 610, 987, 1597, 2584, 4181, 6765, 10946, 17711, 28657, 46368, 75025, 121393, 196418, 317811, 514229, 832040, 1346269, 2178309, 3524578, 5702887, 9227465, 14930352, 24157817, 39088169, 63245986, 102334155, 165580141, 267914296, 433494437, 701408733, 1134903170, 1836311903, 2971215073, 4807526976, 7778742049, 12586269025, 20365011074]\n"
     ]
    }
   ],
   "source": [
    "# 6. Fibonacci sequence up to n terms\n",
    "def fibonacci(n):\n",
    "    if n <= 0:\n",
    "        return []\n",
    "    sequence = [0, 1]\n",
    "    for _ in range(n - 2):\n",
    "        sequence.append(sequence[-1] + sequence[-2])\n",
    "    return sequence[:n]\n",
    "\n",
    "num_terms = int(input(\"Enter number of terms: \"))\n",
    "print(fibonacci(num_terms))"
   ]
  }
 ],
 "metadata": {
  "kernelspec": {
   "display_name": "base",
   "language": "python",
   "name": "python3"
  },
  "language_info": {
   "codemirror_mode": {
    "name": "ipython",
    "version": 3
   },
   "file_extension": ".py",
   "mimetype": "text/x-python",
   "name": "python",
   "nbconvert_exporter": "python",
   "pygments_lexer": "ipython3",
   "version": "3.12.4"
  }
 },
 "nbformat": 4,
 "nbformat_minor": 2
}
